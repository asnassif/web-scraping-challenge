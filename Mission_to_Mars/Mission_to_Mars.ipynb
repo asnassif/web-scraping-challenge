{
 "cells": [
  {
   "cell_type": "markdown",
   "metadata": {},
   "source": [
    "# Mission to Mars\n",
    "\n"
   ]
  },
  {
   "cell_type": "markdown",
   "metadata": {},
   "source": [
    "### Dependencies / Executable Path / URL"
   ]
  },
  {
   "cell_type": "code",
   "execution_count": 6,
   "metadata": {},
   "outputs": [],
   "source": [
    "# Dependencies\n",
    "\n",
    "import os\n",
    "from bs4 import BeautifulSoup as bs\n",
    "import requests\n",
    "import pymongo\n",
    "import time\n",
    "import pandas as pd\n",
    "from splinter import Browser\n",
    "from splinter.exceptions import ElementDoesNotExist\n",
    "# import tweepy\n",
    "# import TweepyCredentials # twitter keys and tokens\n",
    "# from tweepy import OAuthHandler\n"
   ]
  },
  {
   "cell_type": "code",
   "execution_count": 3,
   "metadata": {},
   "outputs": [],
   "source": [
    "# Executable Path:\n",
    "\n",
    "executable_path = {'executable_path': 'chromedriver.exe'}\n",
    "browser = Browser('chrome', **executable_path, headless=False)\n"
   ]
  },
  {
   "cell_type": "code",
   "execution_count": 4,
   "metadata": {},
   "outputs": [],
   "source": [
    "# NASA News website URL\n",
    "\n",
    "url = 'https://mars.nasa.gov/news/'\n",
    "browser.visit(url)\n"
   ]
  },
  {
   "cell_type": "code",
   "execution_count": 5,
   "metadata": {},
   "outputs": [],
   "source": [
    "# Create Soup\n",
    "\n",
    "html = browser.html\n",
    "soup = bs(html, 'html.parser')"
   ]
  },
  {
   "cell_type": "markdown",
   "metadata": {},
   "source": [
    "## Step 1 - Scraping"
   ]
  },
  {
   "cell_type": "markdown",
   "metadata": {},
   "source": [
    "### NASA Mars News"
   ]
  },
  {
   "cell_type": "code",
   "execution_count": 6,
   "metadata": {},
   "outputs": [
    {
     "name": "stdout",
     "output_type": "stream",
     "text": [
      "NASA's Briefcase-Size MarCO Satellite Picks Up Honors\n"
     ]
    }
   ],
   "source": [
    "# News Titles:\n",
    "\n",
    "for x in range(1, 2):  \n",
    "\n",
    "\n",
    "    \n",
    "    news_titles = soup.find_all('div', class_='content_title')\n",
    "    \n",
    "    \n",
    "#   limit the output to one result\n",
    "\n",
    "    print(news_titles[0].text)\n",
    "\n",
    "\n",
    "#     to print ALL  news_title in in pages in the given page range:\n",
    "#             print('-------------------------------------------------------------------')\n",
    "#             print('page:', x, '----')\n",
    "#             print('News Title:',news_title.text)\n",
    "    \n",
    "  \n",
    "  "
   ]
  },
  {
   "cell_type": "code",
   "execution_count": 7,
   "metadata": {},
   "outputs": [
    {
     "name": "stdout",
     "output_type": "stream",
     "text": [
      "The twin spacecraft, the first of their kind to fly into deep space, earn a Laureate from Aviation Week & Space Technology.\n"
     ]
    }
   ],
   "source": [
    "# Paragraph Text:\n",
    "\n",
    "for x in range(1,2):  \n",
    "    \n",
    "    news_ps = soup.find_all('div', class_='article_teaser_body')\n",
    "    \n",
    "#   limit the output to one result\n",
    "    print(news_ps[0].text)\n",
    "    \n",
    "    \n",
    "#### To print ALL  Paragraph_text all in pages in the given page range:\n",
    "#     for news_p in news_ps:\n",
    "#             print('-------------------------------------------------------------------')\n",
    "#             print('page:', x, '----')\n",
    "#             print('Paragraph Text:',news_p.text)\n"
   ]
  },
  {
   "cell_type": "markdown",
   "metadata": {},
   "source": [
    "### JPL Mars Space Images - Featured Image"
   ]
  },
  {
   "cell_type": "code",
   "execution_count": 8,
   "metadata": {},
   "outputs": [],
   "source": [
    "# URL of JPL Mars Space Image to be scraped for featured image\n",
    "url_JPL_images = 'https://www.jpl.nasa.gov/spaceimages/?search=&category=Mars'\n",
    "\n",
    "# Setting up splinter\n",
    "executable_path = {'executable_path': 'chromedriver'}\n",
    "browser = Browser('chrome', **executable_path, headless=False)\n",
    "browser.visit(url_JPL_images)"
   ]
  },
  {
   "cell_type": "code",
   "execution_count": 9,
   "metadata": {},
   "outputs": [],
   "source": [
    "# Browse through the pages\n",
    "time.sleep(2)\n",
    "\n",
    "# Find and click the full image button\n",
    "large_image = browser.find_by_id('full_image')\n",
    "large_image.click()"
   ]
  },
  {
   "cell_type": "code",
   "execution_count": 10,
   "metadata": {},
   "outputs": [],
   "source": [
    "time.sleep(2)\n",
    "\n",
    "# Find the more info button and click that\n",
    "more_info_button = browser.find_link_by_partial_text('more info')\n",
    "more_info_button.click()"
   ]
  },
  {
   "cell_type": "code",
   "execution_count": 11,
   "metadata": {},
   "outputs": [],
   "source": [
    "# Using BeautifulSoup create an object and parse with 'html.parser'\n",
    "html = browser.html\n",
    "img_soup = bs(html, 'html.parser')"
   ]
  },
  {
   "cell_type": "code",
   "execution_count": 12,
   "metadata": {},
   "outputs": [
    {
     "data": {
      "text/plain": [
       "'/spaceimages/images/largesize/PIA17924_hires.jpg'"
      ]
     },
     "execution_count": 12,
     "metadata": {},
     "output_type": "execute_result"
    }
   ],
   "source": [
    "    # find the relative image url\n",
    "    img_url = img_soup.find('figure', class_='lede').find('img')['src']\n",
    "    img_url"
   ]
  },
  {
   "cell_type": "code",
   "execution_count": 13,
   "metadata": {},
   "outputs": [
    {
     "data": {
      "text/plain": [
       "'https://www.jpl.nasa.gov/spaceimages/images/largesize/PIA17924_hires.jpg'"
      ]
     },
     "execution_count": 13,
     "metadata": {},
     "output_type": "execute_result"
    }
   ],
   "source": [
    "# Use the base url to create an absolute url\n",
    "JPL_link = 'https://www.jpl.nasa.gov'\n",
    "featured_image_url = JPL_link + img_url\n",
    "featured_image_url"
   ]
  },
  {
   "cell_type": "markdown",
   "metadata": {},
   "source": [
    "## Mars Weather"
   ]
  },
  {
   "cell_type": "code",
   "execution_count": 14,
   "metadata": {},
   "outputs": [],
   "source": [
    "# Mars Weather twitter\n",
    "\n",
    "url='https://twitter.com/marswxreport?lang=en'\n"
   ]
  },
  {
   "cell_type": "code",
   "execution_count": 15,
   "metadata": {},
   "outputs": [],
   "source": [
    "# Executable Path:\n",
    "\n",
    "executable_path = {'executable_path': 'chromedriver.exe'}\n",
    "browser = Browser('chrome', **executable_path, headless=False)\n",
    "browser.visit(url)"
   ]
  },
  {
   "cell_type": "code",
   "execution_count": 18,
   "metadata": {},
   "outputs": [],
   "source": [
    "time.sleep(2)\n",
    "html = browser.html\n",
    "soup = bs(html, 'html.parser')"
   ]
  },
  {
   "cell_type": "code",
   "execution_count": 19,
   "metadata": {},
   "outputs": [],
   "source": [
    "streamitems = soup.find_all('li', class_='js-stream-item stream-item stream-item')"
   ]
  },
  {
   "cell_type": "code",
   "execution_count": 20,
   "metadata": {},
   "outputs": [
    {
     "data": {
      "text/plain": [
       "'InSight sol 361 (2019-12-02) low -98.2ºC (-144.7ºF) high -21.2ºC (-6.2ºF), winds from the SSW at 4.9 m/s (11.0 mph) gusting to 18.9 m/s (42.3 mph), pressure at 6.70 hPa'"
      ]
     },
     "execution_count": 20,
     "metadata": {},
     "output_type": "execute_result"
    }
   ],
   "source": [
    "i = 0\n",
    "while streamitems[i].find('strong',class_='fullname').text.strip() != 'Mars Weather':\n",
    "    i = i+1\n",
    "    \n",
    "mars_weather = streamitems[i].find('div',class_='js-tweet-text-container')\n",
    "temp = mars_weather.find('a').text\n",
    "mars_weather = mars_weather.text\n",
    "if len(temp) > 0:\n",
    "    mars_weather = mars_weather[:(len(mars_weather) - len(temp) - 1)].strip()\n",
    "mars_weather = mars_weather.replace(\"\\n\", \", \")\n",
    "mars_weather"
   ]
  },
  {
   "cell_type": "markdown",
   "metadata": {},
   "source": [
    "## Mars Facts"
   ]
  },
  {
   "cell_type": "code",
   "execution_count": 21,
   "metadata": {},
   "outputs": [],
   "source": [
    "import pandas as pd\n",
    "url = 'https://space-facts.com/mars/'"
   ]
  },
  {
   "cell_type": "code",
   "execution_count": 22,
   "metadata": {},
   "outputs": [
    {
     "name": "stdout",
     "output_type": "stream",
     "text": [
      "                                              Value\n",
      "Description                                        \n",
      "Equatorial Diameter:                       6,792 km\n",
      "Polar Diameter:                            6,752 km\n",
      "Mass:                 6.39 × 10^23 kg (0.11 Earths)\n",
      "Moons:                          2 (Phobos & Deimos)\n",
      "Orbit Distance:            227,943,824 km (1.38 AU)\n",
      "Orbit Period:                  687 days (1.9 years)\n",
      "Surface Temperature:                   -87 to -5 °C\n",
      "First Record:                     2nd millennium BC\n",
      "Recorded By:                   Egyptian astronomers\n"
     ]
    }
   ],
   "source": [
    "dfs = pd.read_html(url)\n",
    "for df in dfs:\n",
    "    try:\n",
    "        df = df.rename(columns={0:\"Description\", 1:\"Value\"})\n",
    "        df = df.set_index(\"Description\", inplace=False)\n",
    "        marsfacts_html = df.to_html().replace('\\n', '')\n",
    "        df.to_html('marsfacts.html') # to save to a file to test\n",
    "        print(df)\n",
    "        break\n",
    "    except:\n",
    "        continue"
   ]
  },
  {
   "cell_type": "markdown",
   "metadata": {},
   "source": [
    "### Mars Hemispheres"
   ]
  },
  {
   "cell_type": "code",
   "execution_count": 7,
   "metadata": {},
   "outputs": [],
   "source": [
    "base_url = 'https://astrogeology.usgs.gov'\n",
    "url = base_url + '/search/results?q=hemisphere+enhanced&k1=target&v1=Mars'"
   ]
  },
  {
   "cell_type": "code",
   "execution_count": 9,
   "metadata": {},
   "outputs": [],
   "source": [
    "executable_path = {'executable_path': 'chromedriver'}\n",
    "browser = Browser('chrome', **executable_path, headless=False)\n",
    "browser.visit(url)"
   ]
  },
  {
   "cell_type": "code",
   "execution_count": 10,
   "metadata": {},
   "outputs": [],
   "source": [
    "browser.visit(url)\n",
    "html = browser.html\n",
    "soup = bs(html, 'html.parser')\n"
   ]
  },
  {
   "cell_type": "code",
   "execution_count": 11,
   "metadata": {},
   "outputs": [],
   "source": [
    "# Products List URL\n",
    "\n",
    "products = soup.find_all('div', class_='item')"
   ]
  },
  {
   "cell_type": "code",
   "execution_count": 12,
   "metadata": {},
   "outputs": [
    {
     "name": "stdout",
     "output_type": "stream",
     "text": [
      "['https://astrogeology.usgs.gov/search/map/Mars/Viking/cerberus_enhanced', 'https://astrogeology.usgs.gov/search/map/Mars/Viking/schiaparelli_enhanced', 'https://astrogeology.usgs.gov/search/map/Mars/Viking/syrtis_major_enhanced', 'https://astrogeology.usgs.gov/search/map/Mars/Viking/valles_marineris_enhanced']\n"
     ]
    },
    {
     "data": {
      "text/plain": [
       "['Cerberus Hemisphere Enhanced',\n",
       " 'Schiaparelli Hemisphere Enhanced',\n",
       " 'Syrtis Major Hemisphere Enhanced',\n",
       " 'Valles Marineris Hemisphere Enhanced']"
      ]
     },
     "execution_count": 12,
     "metadata": {},
     "output_type": "execute_result"
    }
   ],
   "source": [
    "urls = []\n",
    "titles = []\n",
    "for product in products:\n",
    "    urls.append(base_url + product.find('a')['href'])\n",
    "    titles.append(product.find('h3').text.strip())\n",
    "print(urls)\n",
    "titles"
   ]
  },
  {
   "cell_type": "code",
   "execution_count": 13,
   "metadata": {},
   "outputs": [
    {
     "data": {
      "text/plain": [
       "'https://astrogeology.usgs.gov/cache/images/cfa62af2557222a02478f1fcd781d445_cerberus_enhanced.tif_full.jpg'"
      ]
     },
     "execution_count": 13,
     "metadata": {},
     "output_type": "execute_result"
    }
   ],
   "source": [
    "browser.visit(urls[0])\n",
    "html = browser.html\n",
    "soup = bs(html, 'html.parser')\n",
    "combined_url = base_url+soup.find('img',class_='wide-image')['src']\n",
    "combined_url"
   ]
  },
  {
   "cell_type": "code",
   "execution_count": 14,
   "metadata": {},
   "outputs": [
    {
     "data": {
      "text/plain": [
       "['https://astrogeology.usgs.gov/cache/images/cfa62af2557222a02478f1fcd781d445_cerberus_enhanced.tif_full.jpg',\n",
       " 'https://astrogeology.usgs.gov/cache/images/3cdd1cbf5e0813bba925c9030d13b62e_schiaparelli_enhanced.tif_full.jpg',\n",
       " 'https://astrogeology.usgs.gov/cache/images/ae209b4e408bb6c3e67b6af38168cf28_syrtis_major_enhanced.tif_full.jpg',\n",
       " 'https://astrogeology.usgs.gov/cache/images/7cf2da4bf549ed01c17f206327be4db7_valles_marineris_enhanced.tif_full.jpg']"
      ]
     },
     "execution_count": 14,
     "metadata": {},
     "output_type": "execute_result"
    }
   ],
   "source": [
    "img_urls = []\n",
    "for combined_url in urls:\n",
    "    browser.visit(combined_url)\n",
    "    html = browser.html\n",
    "    soup = bs(html, 'html.parser')\n",
    "    combined_url = base_url+soup.find('img',class_='wide-image')['src']\n",
    "    img_urls.append(combined_url)\n",
    "    \n",
    "img_urls"
   ]
  },
  {
   "cell_type": "code",
   "execution_count": 15,
   "metadata": {},
   "outputs": [
    {
     "data": {
      "text/plain": [
       "[{'title': 'Cerberus Hemisphere Enhanced',\n",
       "  'img_url': 'https://astrogeology.usgs.gov/cache/images/cfa62af2557222a02478f1fcd781d445_cerberus_enhanced.tif_full.jpg'},\n",
       " {'title': 'Schiaparelli Hemisphere Enhanced',\n",
       "  'img_url': 'https://astrogeology.usgs.gov/cache/images/3cdd1cbf5e0813bba925c9030d13b62e_schiaparelli_enhanced.tif_full.jpg'},\n",
       " {'title': 'Syrtis Major Hemisphere Enhanced',\n",
       "  'img_url': 'https://astrogeology.usgs.gov/cache/images/ae209b4e408bb6c3e67b6af38168cf28_syrtis_major_enhanced.tif_full.jpg'},\n",
       " {'title': 'Valles Marineris Hemisphere Enhanced',\n",
       "  'img_url': 'https://astrogeology.usgs.gov/cache/images/7cf2da4bf549ed01c17f206327be4db7_valles_marineris_enhanced.tif_full.jpg'}]"
      ]
     },
     "execution_count": 15,
     "metadata": {},
     "output_type": "execute_result"
    }
   ],
   "source": [
    "hemisphere_image_urls = []\n",
    "\n",
    "for i in range(len(titles)):\n",
    "    hemisphere_image_urls.append({'title':titles[i],'img_url':img_urls[i]})\n",
    "\n",
    "hemisphere_image_urls"
   ]
  },
  {
   "cell_type": "code",
   "execution_count": 16,
   "metadata": {},
   "outputs": [
    {
     "name": "stdout",
     "output_type": "stream",
     "text": [
      "(Title): Cerberus Hemisphere Enhanced\n",
      "(URL): https://astrogeology.usgs.gov/cache/images/cfa62af2557222a02478f1fcd781d445_cerberus_enhanced.tif_full.jpg\n",
      "-------------------------------------------------\n",
      "(Title): Schiaparelli Hemisphere Enhanced\n",
      "(URL): https://astrogeology.usgs.gov/cache/images/3cdd1cbf5e0813bba925c9030d13b62e_schiaparelli_enhanced.tif_full.jpg\n",
      "-------------------------------------------------\n",
      "(Title): Syrtis Major Hemisphere Enhanced\n",
      "(URL): https://astrogeology.usgs.gov/cache/images/ae209b4e408bb6c3e67b6af38168cf28_syrtis_major_enhanced.tif_full.jpg\n",
      "-------------------------------------------------\n",
      "(Title): Valles Marineris Hemisphere Enhanced\n",
      "(URL): https://astrogeology.usgs.gov/cache/images/7cf2da4bf549ed01c17f206327be4db7_valles_marineris_enhanced.tif_full.jpg\n",
      "-------------------------------------------------\n"
     ]
    }
   ],
   "source": [
    "for i in range(len(hemisphere_image_urls)):\n",
    "    print('(Title):',hemisphere_image_urls[i]['title'])\n",
    "    print('(URL):',hemisphere_image_urls[i]['img_url'] + '\\n'+ '-------------------------------------------------')"
   ]
  },
  {
   "cell_type": "code",
   "execution_count": null,
   "metadata": {},
   "outputs": [],
   "source": []
  }
 ],
 "metadata": {
  "kernelspec": {
   "display_name": "Python 3",
   "language": "python",
   "name": "python3"
  },
  "language_info": {
   "codemirror_mode": {
    "name": "ipython",
    "version": 3
   },
   "file_extension": ".py",
   "mimetype": "text/x-python",
   "name": "python",
   "nbconvert_exporter": "python",
   "pygments_lexer": "ipython3",
   "version": "3.7.4"
  }
 },
 "nbformat": 4,
 "nbformat_minor": 2
}
